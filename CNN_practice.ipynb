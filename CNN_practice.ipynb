{
  "nbformat": 4,
  "nbformat_minor": 0,
  "metadata": {
    "colab": {
      "provenance": [],
      "gpuType": "T4"
    },
    "kernelspec": {
      "name": "python3",
      "display_name": "Python 3"
    },
    "language_info": {
      "name": "python"
    },
    "accelerator": "GPU"
  },
  "cells": [
    {
      "cell_type": "code",
      "execution_count": 24,
      "metadata": {
        "id": "d8cOv2kSF6by"
      },
      "outputs": [],
      "source": [
        "import torch\n",
        "import torchvision\n",
        "import matplotlib.pyplot as plt"
      ]
    },
    {
      "cell_type": "code",
      "source": [
        "n_epochs=3\n",
        "batch_size_train=64\n",
        "batch_size_test=1000\n",
        "learning_rate=0.01\n",
        "momentum=0.5\n",
        "log_interval=10\n",
        "random_seed=1\n",
        "torch.backends.cudnn.enabled=False\n",
        "torch.manual_seed(random_seed)"
      ],
      "metadata": {
        "colab": {
          "base_uri": "https://localhost:8080/"
        },
        "id": "tsOIDrTEICrI",
        "outputId": "b4827d27-f88c-4f7a-f02b-0908da3cd6e7"
      },
      "execution_count": 25,
      "outputs": [
        {
          "output_type": "execute_result",
          "data": {
            "text/plain": [
              "<torch._C.Generator at 0x7d1858908a50>"
            ]
          },
          "metadata": {},
          "execution_count": 25
        }
      ]
    },
    {
      "cell_type": "code",
      "source": [
        "train_loader = torch.utils.data.DataLoader(\n",
        "    torchvision.datasets.MNIST('/Applications/ML Cornell/PREC',\n",
        "                               train=True,\n",
        "                               download=True,\n",
        "                               transform=torchvision.transforms.Compose([\n",
        "                                   torchvision.transforms.ToTensor(),\n",
        "                                   torchvision.transforms.Normalize((0.1307,), (0.3081,))])),\n",
        "                                   batch_size=batch_size_train,\n",
        "                                   shuffle=True)"
      ],
      "metadata": {
        "id": "DGM1WMEDIRZU"
      },
      "execution_count": 26,
      "outputs": []
    },
    {
      "cell_type": "code",
      "source": [
        "test_loader = torch.utils.data.DataLoader(\n",
        "    torchvision.datasets.MNIST(\n",
        "        '/Applications/ML Cornell/PREC/',\n",
        "        train=False,\n",
        "        download=True,\n",
        "        transform=torchvision.transforms.Compose([\n",
        "            torchvision.transforms.ToTensor(),\n",
        "            torchvision.transforms.Normalize((0.1307),(0.3081))\n",
        "        ])),\n",
        "    batch_size=batch_size_test,\n",
        "    shuffle=True\n",
        ")"
      ],
      "metadata": {
        "id": "0Kdz0d2AJjH-"
      },
      "execution_count": 27,
      "outputs": []
    },
    {
      "cell_type": "code",
      "source": [
        "examples = enumerate(test_loader)\n",
        "batch_idx, (example_data, example_targets) = next(examples)\n",
        "\"\"\"\n",
        "organizes test data in batches\n",
        "enumerate(test_loader): This turns the test data into a list where each batch has a number (index) attached to it.\n",
        "next(examples): This gets the first batch from the list of batches in examples\n",
        "batch_idx: The number (index) of the current batch.\n",
        "example_data: The actual test data in the batch (e.g., images).\n",
        "example_targets: The correct labels for the test data in the batch (e.g., digit classes).\n",
        "\"\"\"\n",
        "example_data.shape"
      ],
      "metadata": {
        "colab": {
          "base_uri": "https://localhost:8080/"
        },
        "id": "PmCk751kKuK5",
        "outputId": "b1e9cdff-2282-4f24-e48e-558dcbe484c1"
      },
      "execution_count": 28,
      "outputs": [
        {
          "output_type": "execute_result",
          "data": {
            "text/plain": [
              "torch.Size([1000, 1, 28, 28])"
            ]
          },
          "metadata": {},
          "execution_count": 28
        }
      ]
    },
    {
      "cell_type": "markdown",
      "source": [],
      "metadata": {
        "id": "4P-PRN3Pk-Dt"
      }
    },
    {
      "cell_type": "code",
      "source": [
        "fig = plt.figure()\n",
        "for i in range(6):\n",
        "    plt.subplot(2,3,i+1)\n",
        "    plt.tight_layout()\n",
        "    plt.imshow(example_data[i][0], cmap='gray', interpolation='none')\n",
        "    plt.title(\"Ground Truth: {}\".format(example_targets[i]))\n",
        "    plt.xticks([])\n",
        "    plt.yticks([])\n",
        "fig"
      ],
      "metadata": {
        "colab": {
          "base_uri": "https://localhost:8080/",
          "height": 859
        },
        "id": "vRPwImatk9Sq",
        "outputId": "a43781da-2cb0-452d-b37a-53826d3df8c7"
      },
      "execution_count": 29,
      "outputs": [
        {
          "output_type": "execute_result",
          "data": {
            "text/plain": [
              "<Figure size 640x480 with 6 Axes>"
            ],
            "image/png": "[encoded data removed]"
          },
          "metadata": {},
          "execution_count": 29
        },
        {
          "output_type": "display_data",
          "data": {
            "text/plain": [
              "<Figure size 640x480 with 6 Axes>"
            ],
            "image/png": "[encoded data removed]"
          },
          "metadata": {}
        }
      ]
    },
    {
      "cell_type": "code",
      "source": [
        "import torch.nn as nn\n",
        "import torch.nn.functional as F\n",
        "import torch.optim as optim\n",
        "import numpy as np"
      ],
      "metadata": {
        "id": "C76CBiYSlgB4"
      },
      "execution_count": 30,
      "outputs": []
    },
    {
      "cell_type": "code",
      "source": [
        "#create neural network\n",
        "#convolutional layer\n",
        "#pooling layer\n",
        "#fully connected layer\n",
        "class Net(nn.Module):\n",
        "  def __init__(self):\n",
        "    super().__init__()\n",
        "    #first layer: convolutional layer\n",
        "      #conv1 creates a 2d conv layer with 1 input channel, 10 output channels (filters), and 5x5 kernel size\n",
        "    self.conv1 = nn.Conv2d(1,10,kernel_size=5)\n",
        "      #conv2 creates a conv layer with 10 input channels, 20 output channels, and a 5x5 kernel\n",
        "    self.conv2 = nn.Conv2d(10,20,kernel_size=5)\n",
        "    #pooling layer, creates a max pool layer with 2x2 window\n",
        "    self.maxpool = nn.MaxPool2d(2)\n",
        "    #activation function\n",
        "    self.relu = nn.ReLU()\n",
        "    #fully connected layer\n",
        "      #fully connected layer with 320 input features and 50 output features\n",
        "    self.fc1 = nn.Linear(320,50)\n",
        "      #fully connected layer with 50 input features and 10 output features\n",
        "    self.fc2 = nn.Linear(50,10)\n",
        "    self.softmax = nn.LogSoftmax()\n",
        "\n",
        "  #feedforward network\n",
        "  def forward(self,x):\n",
        "    x = self.relu(self.conv1(x))\n",
        "    x = self.maxpool(x)\n",
        "    x = self.relu(self.conv2(x))\n",
        "    x = self.maxpool(x)\n",
        "    x = x.view(-1,320) #flattens the tensor to a shape of [batch_size,320] to prepare it for FC layer\n",
        "    x = self.relu(self.fc1(x))\n",
        "    x = self.fc2(x)\n",
        "    x = self.softmax(x)\n",
        "    return x\n",
        "\n"
      ],
      "metadata": {
        "id": "aQ-hWH7Tnk54"
      },
      "execution_count": 31,
      "outputs": []
    },
    {
      "cell_type": "code",
      "source": [
        "#initialize the neural network class Net() and move to nvidia GPU\n",
        "network = Net().to('cuda')\n",
        "#call the stochastic gradient descent function SGD\n",
        "optimizer = optim.SGD(network.parameters(), lr=learning_rate, momentum=momentum)\n",
        "#Defines the loss function (negative log-likelihood loss) that will be used to evaluate how well the network's predictions match the target values.\n",
        "nllloss = nn.NLLLoss()"
      ],
      "metadata": {
        "id": "BDyH5-HEEvmI"
      },
      "execution_count": 32,
      "outputs": []
    },
    {
      "cell_type": "code",
      "source": [
        "train_losses = []\n",
        "train_counter = []\n",
        "test_losses = []\n",
        "#test counter holds the values indicating the number of training examples processed at diff points in training\n",
        "test_counter = [i*len(train_loader.dataset) for i in range(n_epochs+1)]"
      ],
      "metadata": {
        "id": "E0iBTgQZT84s"
      },
      "execution_count": 33,
      "outputs": []
    },
    {
      "cell_type": "code",
      "source": [
        "def train(epoch):\n",
        "  network.train()\n",
        "  #iterates over train_loader -- has batches of training data and corresponding targets\n",
        "  for batch_idx, (data,target) in enumerate(train_loader):\n",
        "    # data is the input data for the current batch\n",
        "    data = data.to('cuda')\n",
        "    # target is the target labels for the current batch\n",
        "    target = target.to('cuda')\n",
        "    # resets the gradients of the model parameters\n",
        "    # gradients are accum by default in pytorch so must be zeroed\n",
        "    optimizer.zero_grad()\n",
        "    # computes the network's output\n",
        "    output = network(data)\n",
        "    # calculates the loss between network's output and target labels\n",
        "    loss = nllloss(output,target)\n",
        "    loss.backward()\n",
        "    optimizer.step()\n",
        "    if batch_idx % log_interval==0:\n",
        "      print('Train Epoch: {} [{}/{} ({:.0f}%)]\\tLoss: {:.6f}'.format(\n",
        "          epoch, batch_idx * len(data), len(train_loader.dataset),\n",
        "          100. * batch_idx / len(train_loader), loss.item()))\n",
        "      train_losses.append(loss.item())\n",
        "      train_counter.append(\n",
        "          (batch_idx*64) + ((epoch-1)*len(train_loader.dataset)))\n",
        "      train_losses.append(loss.item())\n",
        "      train_counter.append(\n",
        "          (batch_idx*64) + ((epoch-1)*len(train_loader.dataset)))\n",
        "      torch.save(network.state_dict(), 'model.pth')\n",
        "      torch.save(optimizer.state_dict(), 'optimizer.pth')"
      ],
      "metadata": {
        "id": "lsLe5E89VGGl"
      },
      "execution_count": 34,
      "outputs": []
    },
    {
      "cell_type": "code",
      "source": [
        "def test():\n",
        "  #puts network in evaluation mode\n",
        "  network.eval()\n",
        "  # test loss accumulates the total loss over the test set\n",
        "  test_loss = 0\n",
        "  # counts the number of correct predictions\n",
        "  correct = 0\n",
        "  # disables gradient calculation and speeds up computation\n",
        "  with torch.no_grad():\n",
        "    #iterate over batches of test data\n",
        "    for data, target in test_loader:\n",
        "      data = data.to('cuda')\n",
        "      target = target.to('cuda')\n",
        "      output = network(data)\n",
        "      #calculates loss between the network's output and target labels\n",
        "      test_loss += F.nll_loss(output,target,size_average=False).item()\n",
        "      #finds the index of the max value in output tensor along dimension 1 - correspodns to predicted class\n",
        "      pred = output.data.max(1,keepdim=True)[1]\n",
        "      correct += pred.eq(target.data.view_as(pred)).sum()\n",
        "  test_loss /= len(test_loader.dataset)\n",
        "  test_losses.append(test_loss)\n",
        "  print('Accuracy: ',correct.item()/len(test_loader.dataset))\n",
        "\n",
        "test()\n",
        "for epoch in range(1,n_epochs+1):\n",
        "  train(epoch)\n",
        "  test()"
      ],
      "metadata": {
        "colab": {
          "base_uri": "https://localhost:8080/"
        },
        "id": "boetMBKbWw_u",
        "outputId": "a5980ab2-44a8-4c90-c776-6fedb1846d90"
      },
      "execution_count": 36,
      "outputs": [
        {
          "output_type": "stream",
          "name": "stderr",
          "text": [
            "/usr/local/lib/python3.10/dist-packages/torch/nn/modules/module.py:1532: UserWarning: Implicit dimension choice for log_softmax has been deprecated. Change the call to include dim=X as an argument.\n",
            "  return self._call_impl(*args, **kwargs)\n",
            "/usr/local/lib/python3.10/dist-packages/torch/nn/_reduction.py:42: UserWarning: size_average and reduce args will be deprecated, please use reduction='sum' instead.\n",
            "  warnings.warn(warning.format(ret))\n"
          ]
        },
        {
          "output_type": "stream",
          "name": "stdout",
          "text": [
            "Accuracy:  0.0924\n",
            "Train Epoch: 1 [0/60000 (0%)]\tLoss: 2.294923\n",
            "Train Epoch: 1 [640/60000 (1%)]\tLoss: 2.274000\n",
            "Train Epoch: 1 [1280/60000 (2%)]\tLoss: 2.260731\n",
            "Train Epoch: 1 [1920/60000 (3%)]\tLoss: 2.220409\n",
            "Train Epoch: 1 [2560/60000 (4%)]\tLoss: 2.181988\n",
            "Train Epoch: 1 [3200/60000 (5%)]\tLoss: 2.080039\n",
            "Train Epoch: 1 [3840/60000 (6%)]\tLoss: 1.938053\n",
            "Train Epoch: 1 [4480/60000 (7%)]\tLoss: 1.690072\n",
            "Train Epoch: 1 [5120/60000 (9%)]\tLoss: 1.548418\n",
            "Train Epoch: 1 [5760/60000 (10%)]\tLoss: 1.100647\n",
            "Train Epoch: 1 [6400/60000 (11%)]\tLoss: 0.976645\n",
            "Train Epoch: 1 [7040/60000 (12%)]\tLoss: 0.688212\n",
            "Train Epoch: 1 [7680/60000 (13%)]\tLoss: 0.660203\n",
            "Train Epoch: 1 [8320/60000 (14%)]\tLoss: 0.734668\n",
            "Train Epoch: 1 [8960/60000 (15%)]\tLoss: 0.534860\n",
            "Train Epoch: 1 [9600/60000 (16%)]\tLoss: 0.473771\n",
            "Train Epoch: 1 [10240/60000 (17%)]\tLoss: 0.562370\n",
            "Train Epoch: 1 [10880/60000 (18%)]\tLoss: 0.491707\n",
            "Train Epoch: 1 [11520/60000 (19%)]\tLoss: 0.312373\n",
            "Train Epoch: 1 [12160/60000 (20%)]\tLoss: 0.572907\n",
            "Train Epoch: 1 [12800/60000 (21%)]\tLoss: 0.456703\n",
            "Train Epoch: 1 [13440/60000 (22%)]\tLoss: 0.508596\n",
            "Train Epoch: 1 [14080/60000 (23%)]\tLoss: 0.584539\n",
            "Train Epoch: 1 [14720/60000 (25%)]\tLoss: 0.456343\n",
            "Train Epoch: 1 [15360/60000 (26%)]\tLoss: 0.366797\n",
            "Train Epoch: 1 [16000/60000 (27%)]\tLoss: 0.290832\n",
            "Train Epoch: 1 [16640/60000 (28%)]\tLoss: 0.337258\n",
            "Train Epoch: 1 [17280/60000 (29%)]\tLoss: 0.358935\n",
            "Train Epoch: 1 [17920/60000 (30%)]\tLoss: 0.463362\n",
            "Train Epoch: 1 [18560/60000 (31%)]\tLoss: 0.362123\n",
            "Train Epoch: 1 [19200/60000 (32%)]\tLoss: 0.262116\n",
            "Train Epoch: 1 [19840/60000 (33%)]\tLoss: 0.324493\n",
            "Train Epoch: 1 [20480/60000 (34%)]\tLoss: 0.375537\n",
            "Train Epoch: 1 [21120/60000 (35%)]\tLoss: 0.209558\n",
            "Train Epoch: 1 [21760/60000 (36%)]\tLoss: 0.279867\n",
            "Train Epoch: 1 [22400/60000 (37%)]\tLoss: 0.265478\n",
            "Train Epoch: 1 [23040/60000 (38%)]\tLoss: 0.215077\n",
            "Train Epoch: 1 [23680/60000 (39%)]\tLoss: 0.271821\n",
            "Train Epoch: 1 [24320/60000 (41%)]\tLoss: 0.474779\n",
            "Train Epoch: 1 [24960/60000 (42%)]\tLoss: 0.166558\n",
            "Train Epoch: 1 [25600/60000 (43%)]\tLoss: 0.367710\n",
            "Train Epoch: 1 [26240/60000 (44%)]\tLoss: 0.184050\n",
            "Train Epoch: 1 [26880/60000 (45%)]\tLoss: 0.196063\n",
            "Train Epoch: 1 [27520/60000 (46%)]\tLoss: 0.406379\n",
            "Train Epoch: 1 [28160/60000 (47%)]\tLoss: 0.107710\n",
            "Train Epoch: 1 [28800/60000 (48%)]\tLoss: 0.256389\n",
            "Train Epoch: 1 [29440/60000 (49%)]\tLoss: 0.132505\n",
            "Train Epoch: 1 [30080/60000 (50%)]\tLoss: 0.424543\n",
            "Train Epoch: 1 [30720/60000 (51%)]\tLoss: 0.248393\n",
            "Train Epoch: 1 [31360/60000 (52%)]\tLoss: 0.173844\n",
            "Train Epoch: 1 [32000/60000 (53%)]\tLoss: 0.175689\n",
            "Train Epoch: 1 [32640/60000 (54%)]\tLoss: 0.144436\n",
            "Train Epoch: 1 [33280/60000 (55%)]\tLoss: 0.229577\n",
            "Train Epoch: 1 [33920/60000 (57%)]\tLoss: 0.153172\n",
            "Train Epoch: 1 [34560/60000 (58%)]\tLoss: 0.204093\n",
            "Train Epoch: 1 [35200/60000 (59%)]\tLoss: 0.356308\n",
            "Train Epoch: 1 [35840/60000 (60%)]\tLoss: 0.066417\n",
            "Train Epoch: 1 [36480/60000 (61%)]\tLoss: 0.137534\n",
            "Train Epoch: 1 [37120/60000 (62%)]\tLoss: 0.111555\n",
            "Train Epoch: 1 [37760/60000 (63%)]\tLoss: 0.222362\n",
            "Train Epoch: 1 [38400/60000 (64%)]\tLoss: 0.110982\n",
            "Train Epoch: 1 [39040/60000 (65%)]\tLoss: 0.120751\n",
            "Train Epoch: 1 [39680/60000 (66%)]\tLoss: 0.106656\n",
            "Train Epoch: 1 [40320/60000 (67%)]\tLoss: 0.191177\n",
            "Train Epoch: 1 [40960/60000 (68%)]\tLoss: 0.262803\n",
            "Train Epoch: 1 [41600/60000 (69%)]\tLoss: 0.224902\n",
            "Train Epoch: 1 [42240/60000 (70%)]\tLoss: 0.119189\n",
            "Train Epoch: 1 [42880/60000 (71%)]\tLoss: 0.130059\n",
            "Train Epoch: 1 [43520/60000 (72%)]\tLoss: 0.192140\n",
            "Train Epoch: 1 [44160/60000 (74%)]\tLoss: 0.127946\n",
            "Train Epoch: 1 [44800/60000 (75%)]\tLoss: 0.234465\n",
            "Train Epoch: 1 [45440/60000 (76%)]\tLoss: 0.193762\n",
            "Train Epoch: 1 [46080/60000 (77%)]\tLoss: 0.236737\n",
            "Train Epoch: 1 [46720/60000 (78%)]\tLoss: 0.245361\n",
            "Train Epoch: 1 [47360/60000 (79%)]\tLoss: 0.068419\n",
            "Train Epoch: 1 [48000/60000 (80%)]\tLoss: 0.292591\n",
            "Train Epoch: 1 [48640/60000 (81%)]\tLoss: 0.168936\n",
            "Train Epoch: 1 [49280/60000 (82%)]\tLoss: 0.242430\n",
            "Train Epoch: 1 [49920/60000 (83%)]\tLoss: 0.120862\n",
            "Train Epoch: 1 [50560/60000 (84%)]\tLoss: 0.128404\n",
            "Train Epoch: 1 [51200/60000 (85%)]\tLoss: 0.189259\n",
            "Train Epoch: 1 [51840/60000 (86%)]\tLoss: 0.129569\n",
            "Train Epoch: 1 [52480/60000 (87%)]\tLoss: 0.130590\n",
            "Train Epoch: 1 [53120/60000 (88%)]\tLoss: 0.117675\n",
            "Train Epoch: 1 [53760/60000 (90%)]\tLoss: 0.119738\n",
            "Train Epoch: 1 [54400/60000 (91%)]\tLoss: 0.057796\n",
            "Train Epoch: 1 [55040/60000 (92%)]\tLoss: 0.073099\n",
            "Train Epoch: 1 [55680/60000 (93%)]\tLoss: 0.108216\n",
            "Train Epoch: 1 [56320/60000 (94%)]\tLoss: 0.051962\n",
            "Train Epoch: 1 [56960/60000 (95%)]\tLoss: 0.198029\n",
            "Train Epoch: 1 [57600/60000 (96%)]\tLoss: 0.280298\n",
            "Train Epoch: 1 [58240/60000 (97%)]\tLoss: 0.059640\n",
            "Train Epoch: 1 [58880/60000 (98%)]\tLoss: 0.175051\n",
            "Train Epoch: 1 [59520/60000 (99%)]\tLoss: 0.057318\n",
            "Accuracy:  0.9627\n",
            "Train Epoch: 2 [0/60000 (0%)]\tLoss: 0.098111\n",
            "Train Epoch: 2 [640/60000 (1%)]\tLoss: 0.121150\n",
            "Train Epoch: 2 [1280/60000 (2%)]\tLoss: 0.176775\n",
            "Train Epoch: 2 [1920/60000 (3%)]\tLoss: 0.115523\n",
            "Train Epoch: 2 [2560/60000 (4%)]\tLoss: 0.161262\n",
            "Train Epoch: 2 [3200/60000 (5%)]\tLoss: 0.159971\n",
            "Train Epoch: 2 [3840/60000 (6%)]\tLoss: 0.167675\n",
            "Train Epoch: 2 [4480/60000 (7%)]\tLoss: 0.092873\n",
            "Train Epoch: 2 [5120/60000 (9%)]\tLoss: 0.105529\n",
            "Train Epoch: 2 [5760/60000 (10%)]\tLoss: 0.098612\n",
            "Train Epoch: 2 [6400/60000 (11%)]\tLoss: 0.103125\n",
            "Train Epoch: 2 [7040/60000 (12%)]\tLoss: 0.257327\n",
            "Train Epoch: 2 [7680/60000 (13%)]\tLoss: 0.128128\n",
            "Train Epoch: 2 [8320/60000 (14%)]\tLoss: 0.115699\n",
            "Train Epoch: 2 [8960/60000 (15%)]\tLoss: 0.099827\n",
            "Train Epoch: 2 [9600/60000 (16%)]\tLoss: 0.160537\n",
            "Train Epoch: 2 [10240/60000 (17%)]\tLoss: 0.104756\n",
            "Train Epoch: 2 [10880/60000 (18%)]\tLoss: 0.085813\n",
            "Train Epoch: 2 [11520/60000 (19%)]\tLoss: 0.059896\n",
            "Train Epoch: 2 [12160/60000 (20%)]\tLoss: 0.085468\n",
            "Train Epoch: 2 [12800/60000 (21%)]\tLoss: 0.121694\n",
            "Train Epoch: 2 [13440/60000 (22%)]\tLoss: 0.077907\n",
            "Train Epoch: 2 [14080/60000 (23%)]\tLoss: 0.053742\n",
            "Train Epoch: 2 [14720/60000 (25%)]\tLoss: 0.104004\n",
            "Train Epoch: 2 [15360/60000 (26%)]\tLoss: 0.088754\n",
            "Train Epoch: 2 [16000/60000 (27%)]\tLoss: 0.179073\n",
            "Train Epoch: 2 [16640/60000 (28%)]\tLoss: 0.044914\n",
            "Train Epoch: 2 [17280/60000 (29%)]\tLoss: 0.062800\n",
            "Train Epoch: 2 [17920/60000 (30%)]\tLoss: 0.061324\n",
            "Train Epoch: 2 [18560/60000 (31%)]\tLoss: 0.074742\n",
            "Train Epoch: 2 [19200/60000 (32%)]\tLoss: 0.071911\n",
            "Train Epoch: 2 [19840/60000 (33%)]\tLoss: 0.113776\n",
            "Train Epoch: 2 [20480/60000 (34%)]\tLoss: 0.164086\n",
            "Train Epoch: 2 [21120/60000 (35%)]\tLoss: 0.062607\n",
            "Train Epoch: 2 [21760/60000 (36%)]\tLoss: 0.040403\n",
            "Train Epoch: 2 [22400/60000 (37%)]\tLoss: 0.132932\n",
            "Train Epoch: 2 [23040/60000 (38%)]\tLoss: 0.106379\n",
            "Train Epoch: 2 [23680/60000 (39%)]\tLoss: 0.038439\n",
            "Train Epoch: 2 [24320/60000 (41%)]\tLoss: 0.050910\n",
            "Train Epoch: 2 [24960/60000 (42%)]\tLoss: 0.057828\n",
            "Train Epoch: 2 [25600/60000 (43%)]\tLoss: 0.062882\n",
            "Train Epoch: 2 [26240/60000 (44%)]\tLoss: 0.054345\n",
            "Train Epoch: 2 [26880/60000 (45%)]\tLoss: 0.120774\n",
            "Train Epoch: 2 [27520/60000 (46%)]\tLoss: 0.082937\n",
            "Train Epoch: 2 [28160/60000 (47%)]\tLoss: 0.043683\n",
            "Train Epoch: 2 [28800/60000 (48%)]\tLoss: 0.123242\n",
            "Train Epoch: 2 [29440/60000 (49%)]\tLoss: 0.057967\n",
            "Train Epoch: 2 [30080/60000 (50%)]\tLoss: 0.155653\n",
            "Train Epoch: 2 [30720/60000 (51%)]\tLoss: 0.021128\n",
            "Train Epoch: 2 [31360/60000 (52%)]\tLoss: 0.156859\n",
            "Train Epoch: 2 [32000/60000 (53%)]\tLoss: 0.030009\n",
            "Train Epoch: 2 [32640/60000 (54%)]\tLoss: 0.188774\n",
            "Train Epoch: 2 [33280/60000 (55%)]\tLoss: 0.045520\n",
            "Train Epoch: 2 [33920/60000 (57%)]\tLoss: 0.073382\n",
            "Train Epoch: 2 [34560/60000 (58%)]\tLoss: 0.157585\n",
            "Train Epoch: 2 [35200/60000 (59%)]\tLoss: 0.072080\n",
            "Train Epoch: 2 [35840/60000 (60%)]\tLoss: 0.223861\n",
            "Train Epoch: 2 [36480/60000 (61%)]\tLoss: 0.017933\n",
            "Train Epoch: 2 [37120/60000 (62%)]\tLoss: 0.074660\n",
            "Train Epoch: 2 [37760/60000 (63%)]\tLoss: 0.043633\n",
            "Train Epoch: 2 [38400/60000 (64%)]\tLoss: 0.128150\n",
            "Train Epoch: 2 [39040/60000 (65%)]\tLoss: 0.094868\n",
            "Train Epoch: 2 [39680/60000 (66%)]\tLoss: 0.083171\n",
            "Train Epoch: 2 [40320/60000 (67%)]\tLoss: 0.228642\n",
            "Train Epoch: 2 [40960/60000 (68%)]\tLoss: 0.012825\n",
            "Train Epoch: 2 [41600/60000 (69%)]\tLoss: 0.021483\n",
            "Train Epoch: 2 [42240/60000 (70%)]\tLoss: 0.035363\n",
            "Train Epoch: 2 [42880/60000 (71%)]\tLoss: 0.244630\n",
            "Train Epoch: 2 [43520/60000 (72%)]\tLoss: 0.033547\n",
            "Train Epoch: 2 [44160/60000 (74%)]\tLoss: 0.143842\n",
            "Train Epoch: 2 [44800/60000 (75%)]\tLoss: 0.107761\n",
            "Train Epoch: 2 [45440/60000 (76%)]\tLoss: 0.113902\n",
            "Train Epoch: 2 [46080/60000 (77%)]\tLoss: 0.037574\n",
            "Train Epoch: 2 [46720/60000 (78%)]\tLoss: 0.060595\n",
            "Train Epoch: 2 [47360/60000 (79%)]\tLoss: 0.031364\n",
            "Train Epoch: 2 [48000/60000 (80%)]\tLoss: 0.078864\n",
            "Train Epoch: 2 [48640/60000 (81%)]\tLoss: 0.054454\n",
            "Train Epoch: 2 [49280/60000 (82%)]\tLoss: 0.064315\n",
            "Train Epoch: 2 [49920/60000 (83%)]\tLoss: 0.059408\n",
            "Train Epoch: 2 [50560/60000 (84%)]\tLoss: 0.031489\n",
            "Train Epoch: 2 [51200/60000 (85%)]\tLoss: 0.015066\n",
            "Train Epoch: 2 [51840/60000 (86%)]\tLoss: 0.058258\n",
            "Train Epoch: 2 [52480/60000 (87%)]\tLoss: 0.073171\n",
            "Train Epoch: 2 [53120/60000 (88%)]\tLoss: 0.087012\n",
            "Train Epoch: 2 [53760/60000 (90%)]\tLoss: 0.013410\n",
            "Train Epoch: 2 [54400/60000 (91%)]\tLoss: 0.149722\n",
            "Train Epoch: 2 [55040/60000 (92%)]\tLoss: 0.102087\n",
            "Train Epoch: 2 [55680/60000 (93%)]\tLoss: 0.066951\n",
            "Train Epoch: 2 [56320/60000 (94%)]\tLoss: 0.059698\n",
            "Train Epoch: 2 [56960/60000 (95%)]\tLoss: 0.010057\n",
            "Train Epoch: 2 [57600/60000 (96%)]\tLoss: 0.088027\n",
            "Train Epoch: 2 [58240/60000 (97%)]\tLoss: 0.039551\n",
            "Train Epoch: 2 [58880/60000 (98%)]\tLoss: 0.120031\n",
            "Train Epoch: 2 [59520/60000 (99%)]\tLoss: 0.039821\n",
            "Accuracy:  0.9758\n",
            "Train Epoch: 3 [0/60000 (0%)]\tLoss: 0.057977\n",
            "Train Epoch: 3 [640/60000 (1%)]\tLoss: 0.138978\n",
            "Train Epoch: 3 [1280/60000 (2%)]\tLoss: 0.120903\n",
            "Train Epoch: 3 [1920/60000 (3%)]\tLoss: 0.033311\n",
            "Train Epoch: 3 [2560/60000 (4%)]\tLoss: 0.080639\n",
            "Train Epoch: 3 [3200/60000 (5%)]\tLoss: 0.061933\n",
            "Train Epoch: 3 [3840/60000 (6%)]\tLoss: 0.098986\n",
            "Train Epoch: 3 [4480/60000 (7%)]\tLoss: 0.059506\n",
            "Train Epoch: 3 [5120/60000 (9%)]\tLoss: 0.090812\n",
            "Train Epoch: 3 [5760/60000 (10%)]\tLoss: 0.049629\n",
            "Train Epoch: 3 [6400/60000 (11%)]\tLoss: 0.066298\n",
            "Train Epoch: 3 [7040/60000 (12%)]\tLoss: 0.065091\n",
            "Train Epoch: 3 [7680/60000 (13%)]\tLoss: 0.173168\n",
            "Train Epoch: 3 [8320/60000 (14%)]\tLoss: 0.059009\n",
            "Train Epoch: 3 [8960/60000 (15%)]\tLoss: 0.094547\n",
            "Train Epoch: 3 [9600/60000 (16%)]\tLoss: 0.103230\n",
            "Train Epoch: 3 [10240/60000 (17%)]\tLoss: 0.073102\n",
            "Train Epoch: 3 [10880/60000 (18%)]\tLoss: 0.056791\n",
            "Train Epoch: 3 [11520/60000 (19%)]\tLoss: 0.118554\n",
            "Train Epoch: 3 [12160/60000 (20%)]\tLoss: 0.171815\n",
            "Train Epoch: 3 [12800/60000 (21%)]\tLoss: 0.039016\n",
            "Train Epoch: 3 [13440/60000 (22%)]\tLoss: 0.015645\n",
            "Train Epoch: 3 [14080/60000 (23%)]\tLoss: 0.144132\n",
            "Train Epoch: 3 [14720/60000 (25%)]\tLoss: 0.093287\n",
            "Train Epoch: 3 [15360/60000 (26%)]\tLoss: 0.183172\n",
            "Train Epoch: 3 [16000/60000 (27%)]\tLoss: 0.117319\n",
            "Train Epoch: 3 [16640/60000 (28%)]\tLoss: 0.080961\n",
            "Train Epoch: 3 [17280/60000 (29%)]\tLoss: 0.101146\n",
            "Train Epoch: 3 [17920/60000 (30%)]\tLoss: 0.096915\n",
            "Train Epoch: 3 [18560/60000 (31%)]\tLoss: 0.069406\n",
            "Train Epoch: 3 [19200/60000 (32%)]\tLoss: 0.225836\n",
            "Train Epoch: 3 [19840/60000 (33%)]\tLoss: 0.127784\n",
            "Train Epoch: 3 [20480/60000 (34%)]\tLoss: 0.084024\n",
            "Train Epoch: 3 [21120/60000 (35%)]\tLoss: 0.018900\n",
            "Train Epoch: 3 [21760/60000 (36%)]\tLoss: 0.051380\n",
            "Train Epoch: 3 [22400/60000 (37%)]\tLoss: 0.040820\n",
            "Train Epoch: 3 [23040/60000 (38%)]\tLoss: 0.134610\n",
            "Train Epoch: 3 [23680/60000 (39%)]\tLoss: 0.025535\n",
            "Train Epoch: 3 [24320/60000 (41%)]\tLoss: 0.164063\n",
            "Train Epoch: 3 [24960/60000 (42%)]\tLoss: 0.135157\n",
            "Train Epoch: 3 [25600/60000 (43%)]\tLoss: 0.028729\n",
            "Train Epoch: 3 [26240/60000 (44%)]\tLoss: 0.117020\n",
            "Train Epoch: 3 [26880/60000 (45%)]\tLoss: 0.073030\n",
            "Train Epoch: 3 [27520/60000 (46%)]\tLoss: 0.115156\n",
            "Train Epoch: 3 [28160/60000 (47%)]\tLoss: 0.016985\n",
            "Train Epoch: 3 [28800/60000 (48%)]\tLoss: 0.091656\n",
            "Train Epoch: 3 [29440/60000 (49%)]\tLoss: 0.126175\n",
            "Train Epoch: 3 [30080/60000 (50%)]\tLoss: 0.057104\n",
            "Train Epoch: 3 [30720/60000 (51%)]\tLoss: 0.024127\n",
            "Train Epoch: 3 [31360/60000 (52%)]\tLoss: 0.081498\n",
            "Train Epoch: 3 [32000/60000 (53%)]\tLoss: 0.128828\n",
            "Train Epoch: 3 [32640/60000 (54%)]\tLoss: 0.065550\n",
            "Train Epoch: 3 [33280/60000 (55%)]\tLoss: 0.005508\n",
            "Train Epoch: 3 [33920/60000 (57%)]\tLoss: 0.141294\n",
            "Train Epoch: 3 [34560/60000 (58%)]\tLoss: 0.008908\n",
            "Train Epoch: 3 [35200/60000 (59%)]\tLoss: 0.029170\n",
            "Train Epoch: 3 [35840/60000 (60%)]\tLoss: 0.027025\n",
            "Train Epoch: 3 [36480/60000 (61%)]\tLoss: 0.018561\n",
            "Train Epoch: 3 [37120/60000 (62%)]\tLoss: 0.026063\n",
            "Train Epoch: 3 [37760/60000 (63%)]\tLoss: 0.092437\n",
            "Train Epoch: 3 [38400/60000 (64%)]\tLoss: 0.019459\n",
            "Train Epoch: 3 [39040/60000 (65%)]\tLoss: 0.105240\n",
            "Train Epoch: 3 [39680/60000 (66%)]\tLoss: 0.023652\n",
            "Train Epoch: 3 [40320/60000 (67%)]\tLoss: 0.093838\n",
            "Train Epoch: 3 [40960/60000 (68%)]\tLoss: 0.080636\n",
            "Train Epoch: 3 [41600/60000 (69%)]\tLoss: 0.096199\n",
            "Train Epoch: 3 [42240/60000 (70%)]\tLoss: 0.119625\n",
            "Train Epoch: 3 [42880/60000 (71%)]\tLoss: 0.033433\n",
            "Train Epoch: 3 [43520/60000 (72%)]\tLoss: 0.007153\n",
            "Train Epoch: 3 [44160/60000 (74%)]\tLoss: 0.054574\n",
            "Train Epoch: 3 [44800/60000 (75%)]\tLoss: 0.040473\n",
            "Train Epoch: 3 [45440/60000 (76%)]\tLoss: 0.034361\n",
            "Train Epoch: 3 [46080/60000 (77%)]\tLoss: 0.133122\n",
            "Train Epoch: 3 [46720/60000 (78%)]\tLoss: 0.099406\n",
            "Train Epoch: 3 [47360/60000 (79%)]\tLoss: 0.049190\n",
            "Train Epoch: 3 [48000/60000 (80%)]\tLoss: 0.094722\n",
            "Train Epoch: 3 [48640/60000 (81%)]\tLoss: 0.006787\n",
            "Train Epoch: 3 [49280/60000 (82%)]\tLoss: 0.049105\n",
            "Train Epoch: 3 [49920/60000 (83%)]\tLoss: 0.023243\n",
            "Train Epoch: 3 [50560/60000 (84%)]\tLoss: 0.018352\n",
            "Train Epoch: 3 [51200/60000 (85%)]\tLoss: 0.021098\n",
            "Train Epoch: 3 [51840/60000 (86%)]\tLoss: 0.110545\n",
            "Train Epoch: 3 [52480/60000 (87%)]\tLoss: 0.038188\n",
            "Train Epoch: 3 [53120/60000 (88%)]\tLoss: 0.016816\n",
            "Train Epoch: 3 [53760/60000 (90%)]\tLoss: 0.092288\n",
            "Train Epoch: 3 [54400/60000 (91%)]\tLoss: 0.059470\n",
            "Train Epoch: 3 [55040/60000 (92%)]\tLoss: 0.037641\n",
            "Train Epoch: 3 [55680/60000 (93%)]\tLoss: 0.058284\n",
            "Train Epoch: 3 [56320/60000 (94%)]\tLoss: 0.056841\n",
            "Train Epoch: 3 [56960/60000 (95%)]\tLoss: 0.042428\n",
            "Train Epoch: 3 [57600/60000 (96%)]\tLoss: 0.118624\n",
            "Train Epoch: 3 [58240/60000 (97%)]\tLoss: 0.060834\n",
            "Train Epoch: 3 [58880/60000 (98%)]\tLoss: 0.041873\n",
            "Train Epoch: 3 [59520/60000 (99%)]\tLoss: 0.049912\n",
            "Accuracy:  0.9787\n"
          ]
        }
      ]
    },
    {
      "cell_type": "code",
      "source": [
        "plt.style.use('seaborn')\n",
        "plt.plot(train_counter, train_losses)\n",
        "plt.scatter(test_counter, test_losses, color='tab:orange')\n",
        "plt.legend(['Train, Loss', 'Test Loss'],  frameon=True)\n",
        "plt.xlabel('Number of training examples seen')\n",
        "plt.ylabel('Negative log likelihood loss')\n",
        "plt.show()"
      ],
      "metadata": {
        "colab": {
          "base_uri": "https://localhost:8080/",
          "height": 559
        },
        "id": "xuuI12nSYqhc",
        "outputId": "ca129cf3-2eb4-4d0c-858b-bad5ee0e0351"
      },
      "execution_count": 37,
      "outputs": [
        {
          "output_type": "stream",
          "name": "stderr",
          "text": [
            "<ipython-input-37-ad4e3de3dd04>:1: MatplotlibDeprecationWarning: The seaborn styles shipped by Matplotlib are deprecated since 3.6, as they no longer correspond to the styles shipped by seaborn. However, they will remain available as 'seaborn-v0_8-<style>'. Alternatively, directly use the seaborn API instead.\n",
            "  plt.style.use('seaborn')\n"
          ]
        },
        {
          "output_type": "display_data",
          "data": {
            "text/plain": [
              "<Figure size 800x550 with 1 Axes>"
            ],
            "image/png": "[encoded data removed]"
          },
          "metadata": {}
        }
      ]
    },
    {
      "cell_type": "code",
      "source": [
        "test()"
      ],
      "metadata": {
        "colab": {
          "base_uri": "https://localhost:8080/"
        },
        "id": "Q8518aUqYsiT",
        "outputId": "e1720902-22e8-4fe3-99b3-64687bb0bdb0"
      },
      "execution_count": 38,
      "outputs": [
        {
          "output_type": "stream",
          "name": "stderr",
          "text": [
            "/usr/local/lib/python3.10/dist-packages/torch/nn/modules/module.py:1532: UserWarning: Implicit dimension choice for log_softmax has been deprecated. Change the call to include dim=X as an argument.\n",
            "  return self._call_impl(*args, **kwargs)\n",
            "/usr/local/lib/python3.10/dist-packages/torch/nn/_reduction.py:42: UserWarning: size_average and reduce args will be deprecated, please use reduction='sum' instead.\n",
            "  warnings.warn(warning.format(ret))\n"
          ]
        },
        {
          "output_type": "stream",
          "name": "stdout",
          "text": [
            "Accuracy:  0.9787\n"
          ]
        }
      ]
    }
  ]
}